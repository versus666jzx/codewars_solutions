{
 "cells": [
  {
   "cell_type": "markdown",
   "source": [
    "A string is considered to be in title case if each word in the string is either (a) capitalised (that is, only the first letter of the word is in upper case) or (b) considered to be an exception and put entirely into lower case unless it is the first word, which is always capitalised.\n",
    "\n",
    "Write a function that will convert a string into title case, given an optional list of exceptions (minor words). The list of minor words will be given as a string with each word separated by a space. Your function should ignore the case of the minor words string -- it should behave in the same way even if the case of the minor word string is changed.\n",
    "\n",
    "### Arguments (Haskell)\n",
    "\n",
    "First argument: space-delimited list of minor words that must always be lowercase except for the first word in the string.\n",
    "Second argument: the original string to be converted.\n",
    "\n",
    "### Arguments (Other languages)\n",
    "\n",
    "First argument (required): the original string to be converted.\n",
    "Second argument (optional): space-delimited list of minor words that must always be lowercase except for the first word in the string. The JavaScript/CoffeeScript tests will pass undefined when this argument is unused.\n",
    "\n",
    "### Example\n",
    "\n",
    "`title_case('a clash of KINGS', 'a an the of') # should return: 'A Clash of Kings'`\n",
    "`title_case('THE WIND IN THE WILLOWS', 'The In') # should return: 'The Wind in the Willows'`\n",
    "`title_case('the quick brown fox') # should return: 'The Quick Brown Fox'`"
   ],
   "metadata": {
    "collapsed": false,
    "pycharm": {
     "name": "#%% md\n"
    }
   }
  },
  {
   "cell_type": "code",
   "execution_count": 24,
   "metadata": {
    "collapsed": true,
    "pycharm": {
     "name": "#%%\n"
    }
   },
   "outputs": [],
   "source": [
    "def title_case(title:str, minor_words) -> str:\n",
    "    minor_words = minor_words.title().split()\n",
    "    if len(minor_words) > 0:\n",
    "        return ' '.join([word.lower() if index != 0 and word in minor_words else word for index, word in enumerate(title.title().split())])\n",
    "    else:\n",
    "        return title.title()"
   ]
  },
  {
   "cell_type": "code",
   "execution_count": 43,
   "outputs": [
    {
     "name": "stdout",
     "output_type": "stream",
     "text": [
      "228 [228]\n",
      "261 [261]\n",
      "242 [242]\n",
      "77 [77, 77, 77, 77]\n",
      "843 [843]\n"
     ]
    },
    {
     "data": {
      "text/plain": "[228, 489, 731, 808, 885, 962, 1039, 1882]"
     },
     "metadata": {},
     "output_type": "display_data"
    },
    {
     "ename": "TypeError",
     "evalue": "reduce expected at least 2 arguments, got 1",
     "output_type": "error",
     "traceback": [
      "\u001B[1;31m---------------------------------------------------------------------------\u001B[0m",
      "\u001B[1;31mTypeError\u001B[0m                                 Traceback (most recent call last)",
      "Input \u001B[1;32mIn [43]\u001B[0m, in \u001B[0;36m<cell line: 15>\u001B[1;34m()\u001B[0m\n\u001B[0;32m     12\u001B[0m     \u001B[38;5;28mprint\u001B[39m(group, \u001B[38;5;28mlist\u001B[39m(values))\n\u001B[0;32m     14\u001B[0m display(\u001B[38;5;28mlist\u001B[39m(accumulate(l)))\n\u001B[1;32m---> 15\u001B[0m display(\u001B[43mreduce\u001B[49m\u001B[43m(\u001B[49m\u001B[43ml\u001B[49m\u001B[43m)\u001B[49m)\n",
      "\u001B[1;31mTypeError\u001B[0m: reduce expected at least 2 arguments, got 1"
     ]
    }
   ],
   "source": [
    "from itertools import groupby, accumulate\n",
    "from functools import reduce\n",
    "\n",
    "\n",
    "def unique_in_order(iterable):\n",
    "    res = [el for el, _ in groupby(iterable)]\n",
    "    return res\n",
    "\n",
    "l = [228, 261, 242, 77, 77, 77, 77, 843]\n",
    "\n",
    "for group, values in groupby(l):\n",
    "    print(group, list(values))\n",
    "\n",
    "display(list(accumulate(l)))\n",
    "display(reduce(l))"
   ],
   "metadata": {
    "collapsed": false,
    "pycharm": {
     "name": "#%%\n"
    }
   }
  }
 ],
 "metadata": {
  "kernelspec": {
   "display_name": "Python 3",
   "language": "python",
   "name": "python3"
  },
  "language_info": {
   "codemirror_mode": {
    "name": "ipython",
    "version": 2
   },
   "file_extension": ".py",
   "mimetype": "text/x-python",
   "name": "python",
   "nbconvert_exporter": "python",
   "pygments_lexer": "ipython2",
   "version": "2.7.6"
  }
 },
 "nbformat": 4,
 "nbformat_minor": 0
}