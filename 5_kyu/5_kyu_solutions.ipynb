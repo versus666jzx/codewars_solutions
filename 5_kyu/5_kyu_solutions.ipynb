{
 "cells": [
  {
   "cell_type": "markdown",
   "source": [
    "Write a function that takes a string of parentheses, and determines if the order of the parentheses is valid. The function should return true if the string is valid, and false if it's invalid.\n",
    "\n",
    "### Examples\n",
    "`\"()\"              =>  true`\n",
    "`\")(()))\"          =>  false`\n",
    "`\"(\"               =>  false`\n",
    "`\"(())((()())())\"  =>  true`\n",
    "\n",
    "### Constraints\n",
    "\n",
    "_0 <= input.length <= 100_\n",
    "\n",
    "Along with opening (() and closing ()) parenthesis, input may contain any valid ASCII characters. Furthermore, the input string may be empty and/or not contain any parentheses at all. Do not treat other forms of brackets as parentheses (e.g. [], {}, <>)."
   ],
   "metadata": {
    "collapsed": false,
    "pycharm": {
     "name": "#%% md\n"
    }
   }
  },
  {
   "cell_type": "code",
   "execution_count": 82,
   "metadata": {
    "collapsed": true,
    "pycharm": {
     "name": "#%%\n"
    }
   },
   "outputs": [],
   "source": [
    "import re\n",
    "\n",
    "def valid_parentheses(string):\n",
    "    new_str = re.findall(r'[()]', string)\n",
    "    open = 0\n",
    "    balanced = True\n",
    "    for sym in new_str:\n",
    "        if sym == '(':\n",
    "            balanced = False\n",
    "            open += 1\n",
    "        if sym == ')':\n",
    "            if balanced:\n",
    "                return False\n",
    "            else:\n",
    "                open -= 1\n",
    "                if open == 0:\n",
    "                    balanced = True\n",
    "                else:\n",
    "                    balanced = False\n",
    "    return balanced"
   ]
  },
  {
   "cell_type": "markdown",
   "source": [
    "`1, 246, 2, 123, 3, 82, 6, 41` are the divisors of number 246. Squaring these divisors we get: `1, 60516, 4, 15129, 9, 6724, 36, 1681`. The sum of these squares is 84100 which is 290 * 290.\n",
    "\n",
    "### Task\n",
    "Find all integers between m and n (m and n integers with 1 <= m <= n) such that the sum of their squared divisors is itself a square.\n",
    "\n",
    "We will return an array of subarrays or of tuples (in C an array of Pair) or a string. The subarrays (or tuples or Pairs) will have two elements: first the number the squared divisors of which is a square and then the sum of the squared divisors.\n",
    "\n",
    "### Example:\n",
    "`list_squared(1, 250) --> [[1, 1], [42, 2500], [246, 84100]]`\n",
    "`list_squared(42, 250) --> [[42, 2500], [246, 84100]]`\n",
    "\n",
    "The form of the examples may change according to the language, see \"Sample Tests\".\n",
    "\n",
    "### Note\n",
    "In Fortran - as in any other language - the returned string is not permitted to contain any redundant trailing whitespace: you can use dynamically allocated character strings."
   ],
   "metadata": {
    "collapsed": false,
    "pycharm": {
     "name": "#%% md\n"
    }
   }
  },
  {
   "cell_type": "code",
   "execution_count": 115,
   "outputs": [
    {
     "data": {
      "text/plain": "[[1, 1],\n [3, 4],\n [22, 36],\n [66, 144],\n [70, 144],\n [81, 121],\n [94, 144],\n [115, 144],\n [119, 144],\n [170, 324],\n [210, 576],\n [214, 324],\n [217, 256]]"
     },
     "execution_count": 115,
     "metadata": {},
     "output_type": "execute_result"
    }
   ],
   "source": [
    "def list_squared(m, n):\n",
    "    res = []\n",
    "    for num in range(m, n+1):\n",
    "        devisors = []\n",
    "        for devisor in range(1, num+1):\n",
    "            if num % devisor == 0:\n",
    "                devisors.append(devisor)\n",
    "        if (sum(devisors)**0.5).is_integer():\n",
    "            res.append([num, sum(devisors)])\n",
    "    return res\n",
    "\n",
    "\n",
    "list_squared(1, 250)"
   ],
   "metadata": {
    "collapsed": false,
    "pycharm": {
     "name": "#%%\n"
    }
   }
  },
  {
   "cell_type": "code",
   "execution_count": 109,
   "outputs": [
    {
     "data": {
      "text/plain": "False"
     },
     "execution_count": 109,
     "metadata": {},
     "output_type": "execute_result"
    }
   ],
   "source": [
    "(246**0.5).is_integer()"
   ],
   "metadata": {
    "collapsed": false,
    "pycharm": {
     "name": "#%%\n"
    }
   }
  }
 ],
 "metadata": {
  "kernelspec": {
   "display_name": "Python 3",
   "language": "python",
   "name": "python3"
  },
  "language_info": {
   "codemirror_mode": {
    "name": "ipython",
    "version": 2
   },
   "file_extension": ".py",
   "mimetype": "text/x-python",
   "name": "python",
   "nbconvert_exporter": "python",
   "pygments_lexer": "ipython2",
   "version": "2.7.6"
  }
 },
 "nbformat": 4,
 "nbformat_minor": 0
}