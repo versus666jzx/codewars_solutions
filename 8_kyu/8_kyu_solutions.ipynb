{
 "cells": [
  {
   "cell_type": "markdown",
   "source": [
    "### DESCRIPTION:\n",
    "Write a method, that will get an integer array as parameter and will process every number from this array.\n",
    "\n",
    "Return a new array with processing every number of the input-array like this:\n",
    "\n",
    "If the number has an integer square root, take this, otherwise square the number.\n",
    "\n",
    "### Example\n",
    "[4,3,9,7,2,1] -> [2,9,3,49,4,1]\n",
    "\n",
    "### Notes\n",
    "The input array will always contain only positive numbers, and will never be empty or null."
   ],
   "metadata": {
    "collapsed": false,
    "pycharm": {
     "name": "#%% md\n"
    }
   }
  },
  {
   "cell_type": "code",
   "execution_count": 5,
   "metadata": {
    "collapsed": true,
    "pycharm": {
     "name": "#%%\n"
    }
   },
   "outputs": [],
   "source": [
    "# решил обойтись без библиотек\n",
    "def square_or_square_root(arr: list) -> list:\n",
    "    return [int(x**0.5) if (x**0.5 % 1) == 0. else int(x**2) for x in arr]"
   ]
  }
 ],
 "metadata": {
  "kernelspec": {
   "display_name": "Python 3",
   "language": "python",
   "name": "python3"
  },
  "language_info": {
   "codemirror_mode": {
    "name": "ipython",
    "version": 2
   },
   "file_extension": ".py",
   "mimetype": "text/x-python",
   "name": "python",
   "nbconvert_exporter": "python",
   "pygments_lexer": "ipython2",
   "version": "2.7.6"
  }
 },
 "nbformat": 4,
 "nbformat_minor": 0
}