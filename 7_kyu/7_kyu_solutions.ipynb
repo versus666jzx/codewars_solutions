{
 "cells": [
  {
   "cell_type": "markdown",
   "source": [
    "The Robber Language (Rövarspråket) is a Swedish cant used by children to mislead people not familiar with the language. It's used by kids in several screenplays created by Astrid Lindgren.\n",
    "\n",
    "The idea is that every consonant in a sentence is duplicated, with an o inserted in between (b becomes bob). Vowels are left untouched (a remains an a). It's quite hard for an untrained ear to understand a conversation encoded in this manner, especially if spoken rapidly.\n",
    "\n",
    "### Example\n",
    "In this example, the consonants f, b and r are modified. The vowels o and a are left untouched.\n",
    "\n",
    "'foo bar' => 'fofoo bobaror' (`fof-o-o bob-a-ror`)\n",
    "Note: The dashes - in the example are added for readability and should not be included in the output.\n",
    "\n",
    "### The Assignment\n",
    "Your task is to implement a function def robber_encode(sentence) which takes in a string sentence and returns the result converted into robber language.\n",
    "\n",
    "### Notes\n",
    "Only consonants should be modified; leave all other characters unchanged.\n",
    "Both upper and lower case characters will be tested.\n",
    "The case of the o character and the neighboring consonants should match (F => FOF and f => fof).\n",
    "For the purpose of this kata, a character is considered a consonant if it's equal to one of the letters BCDFGHJKLMNPQRSTVWXYZ."
   ],
   "metadata": {
    "collapsed": false,
    "pycharm": {
     "name": "#%% md\n"
    }
   }
  },
  {
   "cell_type": "code",
   "execution_count": null,
   "metadata": {
    "collapsed": true,
    "pycharm": {
     "name": "#%%\n"
    }
   },
   "outputs": [],
   "source": [
    "def robber_encode(sentence: str) -> str:\n",
    "    assert type(sentence) is str, 'Input is not string'\n",
    "    vowel = 'aeiouAEIOU'\n",
    "    res = ''\n",
    "    for symbol in sentence:\n",
    "        if symbol.isalpha():\n",
    "            if symbol.isupper():\n",
    "                robber_symbol = 'O'\n",
    "            else:\n",
    "                robber_symbol = 'o'\n",
    "            if symbol not in vowel:\n",
    "                res += symbol + robber_symbol + symbol\n",
    "            else:\n",
    "                res += symbol\n",
    "        else:\n",
    "            res += symbol\n",
    "\n",
    "    return res"
   ]
  }
 ],
 "metadata": {
  "kernelspec": {
   "display_name": "Python 3",
   "language": "python",
   "name": "python3"
  },
  "language_info": {
   "codemirror_mode": {
    "name": "ipython",
    "version": 2
   },
   "file_extension": ".py",
   "mimetype": "text/x-python",
   "name": "python",
   "nbconvert_exporter": "python",
   "pygments_lexer": "ipython2",
   "version": "2.7.6"
  }
 },
 "nbformat": 4,
 "nbformat_minor": 0
}